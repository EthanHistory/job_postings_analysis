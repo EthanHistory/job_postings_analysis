{
 "cells": [
  {
   "cell_type": "code",
   "execution_count": null,
   "metadata": {},
   "outputs": [],
   "source": [
    "# !pip install -e linkedin_scraper_submodule"
   ]
  },
  {
   "cell_type": "code",
   "execution_count": null,
   "metadata": {},
   "outputs": [],
   "source": [
    "# !pip install selenium"
   ]
  },
  {
   "cell_type": "code",
   "execution_count": null,
   "metadata": {},
   "outputs": [],
   "source": [
    "import json\n",
    "\n",
    "with open(\"credentials.json\", \"r\") as file:\n",
    "    credentials = json.load(file)\n",
    "    email = credentials['email']\n",
    "    password = credentials['password']"
   ]
  },
  {
   "cell_type": "code",
   "execution_count": null,
   "metadata": {},
   "outputs": [],
   "source": [
    "from selenium import webdriver\n",
    "from selenium.webdriver.chrome.options import Options\n",
    "\n",
    "# Create Chrome options\n",
    "chrome_options = Options()\n",
    "\n",
    "# Disable images to speed up page loading (optional)\n",
    "# chrome_options.add_argument('--blink-settings=imagesEnabled=false')\n",
    "\n",
    "# Set user-agent (optional)\n",
    "chrome_options.add_argument('--user-agent=Your User-Agent String')\n",
    "\n",
    "# Disable GPU acceleration (useful in some headless environments)\n",
    "# chrome_options.add_argument('--disable-gpu')\n",
    "\n",
    "# # Disable notifications (optional)\n",
    "chrome_options.add_argument('--disable-notifications')\n",
    "\n",
    "# # Disable the sandbox (useful in some environments)\n",
    "# chrome_options.add_argument('--no-sandbox')\n",
    "\n",
    "# # Disable the \"DevTools listening\" message (optional)\n",
    "chrome_options.add_argument('--disable-infobars')\n",
    "\n",
    "# # Disable extensions (optional)\n",
    "chrome_options.add_argument('--disable-extensions')\n",
    "\n",
    "# Create a WebDriver instance with the configured options\n",
    "driver = webdriver.Chrome(options=chrome_options)"
   ]
  },
  {
   "cell_type": "code",
   "execution_count": null,
   "metadata": {},
   "outputs": [],
   "source": [
    "from linkedin_scraper import JobSearch, actions\n",
    "actions.login(driver, email, password) # if email and password isnt given, it'll prompt in terminal"
   ]
  },
  {
   "cell_type": "code",
   "execution_count": null,
   "metadata": {},
   "outputs": [],
   "source": [
    "from pathlib import Path\n",
    "from datetime import datetime\n",
    "from time import sleep\n",
    "import json\n",
    "\n",
    "job_search = JobSearch(driver=driver, close_on_complete=False, scrape=False)\n",
    "num_collected_jobs = 0\n",
    "\n",
    "for cycle in range(10):\n",
    "    job_listings = job_search.search(\"Machine Learning Engineer\", num_collected_jobs+1)\n",
    "    print(f\"[Progress] {num_collected_jobs + len(job_listings)} jobs identified\")\n",
    "\n",
    "    for job in job_listings:\n",
    "        job.scrape(False)\n",
    "        sleep(10)\n",
    "    num_collected_jobs += len(job_listings)\n",
    "    print(f\"[Progress] {num_collected_jobs} jobs collected\")\n",
    "\n",
    "    data = []\n",
    "    for job in job_listings:\n",
    "        datum = job.to_dict()\n",
    "        datum.update({\"created_date\" : datetime.today().strftime(\"%Y-%m-%d %H:%M:%S\")})\n",
    "        data.append(datum)\n",
    "\n",
    "    file_path = Path('mle.json')\n",
    "    if file_path.is_file():\n",
    "        print(f'The file {file_path} exists.')\n",
    "        with open(\"mle.json\", \"r\") as file:\n",
    "            prev_data = json.load(file)\n",
    "            data += prev_data\n",
    "\n",
    "    with open(\"mle.json\", \"w\") as file:\n",
    "        json.dump(data, file)\n",
    "    sleep(30)\n",
    "\n",
    "print(f\"Last index: {num_collected_jobs}\")"
   ]
  },
  {
   "cell_type": "code",
   "execution_count": null,
   "metadata": {},
   "outputs": [],
   "source": [
    "with open(\"mle.json\", \"w\") as file:\n",
    "    json.dump(data[0], file)"
   ]
  }
 ],
 "metadata": {
  "kernelspec": {
   "display_name": "interview",
   "language": "python",
   "name": "python3"
  },
  "language_info": {
   "codemirror_mode": {
    "name": "ipython",
    "version": 3
   },
   "file_extension": ".py",
   "mimetype": "text/x-python",
   "name": "python",
   "nbconvert_exporter": "python",
   "pygments_lexer": "ipython3",
   "version": "3.11.7"
  }
 },
 "nbformat": 4,
 "nbformat_minor": 2
}
